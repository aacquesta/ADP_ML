{
 "cells": [
  {
   "cell_type": "markdown",
   "metadata": {},
   "source": [
    "# Variables, Tipos de Datos Básicos y Estructuras de Control\n",
    "## Numéricos"
   ]
  },
  {
   "cell_type": "code",
   "execution_count": 1,
   "metadata": {},
   "outputs": [
    {
     "name": "stdout",
     "output_type": "stream",
     "text": [
      "50\n",
      "3.14\n"
     ]
    }
   ],
   "source": [
    "a = 10  # Enteros\n",
    "a = a * 5\n",
    "print(a)\n",
    "b = 3.14 # Flotantes\n",
    "print(b)"
   ]
  },
  {
   "cell_type": "markdown",
   "metadata": {},
   "source": [
    "## Cadenas de Caracteres (strings)"
   ]
  },
  {
   "cell_type": "code",
   "execution_count": 2,
   "metadata": {},
   "outputs": [
    {
     "name": "stdout",
     "output_type": "stream",
     "text": [
      "Hola Mundo!\n"
     ]
    }
   ],
   "source": [
    "c = \"Hola \"\n",
    "d = \"Mundo!\"\n",
    "print(c + d)"
   ]
  },
  {
   "cell_type": "code",
   "execution_count": 4,
   "metadata": {},
   "outputs": [
    {
     "ename": "TypeError",
     "evalue": "must be str, not int",
     "output_type": "error",
     "traceback": [
      "\u001b[0;31m---------------------------------------------------------------------------\u001b[0m",
      "\u001b[0;31mTypeError\u001b[0m                                 Traceback (most recent call last)",
      "\u001b[0;32m<ipython-input-4-e4d15f6596f8>\u001b[0m in \u001b[0;36m<module>\u001b[0;34m()\u001b[0m\n\u001b[0;32m----> 1\u001b[0;31m \u001b[0mprint\u001b[0m\u001b[0;34m(\u001b[0m\u001b[0;34m\"a vale \"\u001b[0m \u001b[0;34m+\u001b[0m \u001b[0ma\u001b[0m\u001b[0;34m)\u001b[0m \u001b[0;31m# Esto tira error!\u001b[0m\u001b[0;34m\u001b[0m\u001b[0m\n\u001b[0m",
      "\u001b[0;31mTypeError\u001b[0m: must be str, not int"
     ]
    }
   ],
   "source": [
    "print(\"a vale \" + a) # Esto tira error!"
   ]
  },
  {
   "cell_type": "code",
   "execution_count": 5,
   "metadata": {},
   "outputs": [
    {
     "name": "stdout",
     "output_type": "stream",
     "text": [
      "a vale 50\n",
      "a vale  50\n"
     ]
    }
   ],
   "source": [
    "print(\"a vale \" + str(a)) # Ok\n",
    "print(\"a vale\",a) # Tambien Ok."
   ]
  },
  {
   "cell_type": "markdown",
   "metadata": {},
   "source": [
    "## Booleanos"
   ]
  },
  {
   "cell_type": "code",
   "execution_count": 32,
   "metadata": {},
   "outputs": [
    {
     "name": "stdout",
     "output_type": "stream",
     "text": [
      "True\n",
      "False\n"
     ]
    }
   ],
   "source": [
    "a = True\n",
    "b = False\n",
    "c = 5 > 3\n",
    "print(c)\n",
    "print(c and b)"
   ]
  },
  {
   "cell_type": "markdown",
   "metadata": {},
   "source": [
    "## Tuplas"
   ]
  },
  {
   "cell_type": "code",
   "execution_count": 8,
   "metadata": {},
   "outputs": [
    {
     "name": "stdout",
     "output_type": "stream",
     "text": [
      "(4, 6, 12)\n",
      "Primera coordenada es 4\n",
      "La longitud de x es 3\n"
     ]
    }
   ],
   "source": [
    "x = (4,6,12)\n",
    "print(x)\n",
    "print(\"Primera coordenada es\", x[0]) # <- Se indexa desde 0.\n",
    "print(\"La longitud de x es\", len(x))"
   ]
  },
  {
   "cell_type": "code",
   "execution_count": 9,
   "metadata": {},
   "outputs": [
    {
     "ename": "TypeError",
     "evalue": "'tuple' object does not support item assignment",
     "output_type": "error",
     "traceback": [
      "\u001b[0;31m---------------------------------------------------------------------------\u001b[0m",
      "\u001b[0;31mTypeError\u001b[0m                                 Traceback (most recent call last)",
      "\u001b[0;32m<ipython-input-9-0d8947450908>\u001b[0m in \u001b[0;36m<module>\u001b[0;34m()\u001b[0m\n\u001b[0;32m----> 1\u001b[0;31m \u001b[0mx\u001b[0m\u001b[0;34m[\u001b[0m\u001b[0;36m2\u001b[0m\u001b[0;34m]\u001b[0m \u001b[0;34m=\u001b[0m \u001b[0;36m23\u001b[0m\u001b[0;34m\u001b[0m\u001b[0m\n\u001b[0m",
      "\u001b[0;31mTypeError\u001b[0m: 'tuple' object does not support item assignment"
     ]
    }
   ],
   "source": [
    "x[2] = 23 # Error! Las tuplas son inmutables"
   ]
  },
  {
   "cell_type": "markdown",
   "metadata": {},
   "source": [
    "## Listas\n",
    "Estructura de datos dinámica, permite guardar una cantidad no previamente especificada de datos."
   ]
  },
  {
   "cell_type": "code",
   "execution_count": 10,
   "metadata": {},
   "outputs": [
    {
     "name": "stdout",
     "output_type": "stream",
     "text": [
      "[5, 'hola', 12]\n"
     ]
    }
   ],
   "source": [
    "l = [5, \"hola\", 12] # Puede tener tipos mezclados la lista.\n",
    "print(l)"
   ]
  },
  {
   "cell_type": "code",
   "execution_count": 11,
   "metadata": {},
   "outputs": [
    {
     "name": "stdout",
     "output_type": "stream",
     "text": [
      "l tiene  3 elementos.\n"
     ]
    }
   ],
   "source": [
    "print(\"l tiene\", len(l), \"elementos.\")"
   ]
  },
  {
   "cell_type": "code",
   "execution_count": 12,
   "metadata": {},
   "outputs": [
    {
     "name": "stdout",
     "output_type": "stream",
     "text": [
      "[5, 24.5, 12]\n"
     ]
    }
   ],
   "source": [
    "l[1] = 24.5\n",
    "print(l)"
   ]
  },
  {
   "cell_type": "code",
   "execution_count": 13,
   "metadata": {},
   "outputs": [
    {
     "name": "stdout",
     "output_type": "stream",
     "text": [
      "[5, 24.5, 12, 90]\n"
     ]
    }
   ],
   "source": [
    "l.append(90)\n",
    "print(l)"
   ]
  },
  {
   "cell_type": "code",
   "execution_count": 14,
   "metadata": {},
   "outputs": [
    {
     "name": "stdout",
     "output_type": "stream",
     "text": [
      "['b', 'c']\n"
     ]
    }
   ],
   "source": [
    "l = [\"a\", \"b\", \"c\", \"d\", \"e\", \"f\", \"g\"]\n",
    "print(l[1:3])  # Levanta desde la b hasta la c inclusive (excluye el item de la derecha)"
   ]
  },
  {
   "cell_type": "code",
   "execution_count": 15,
   "metadata": {},
   "outputs": [
    {
     "name": "stdout",
     "output_type": "stream",
     "text": [
      "g\n"
     ]
    }
   ],
   "source": [
    "print(l[-1]) # Ultimo elemento"
   ]
  },
  {
   "cell_type": "markdown",
   "metadata": {},
   "source": [
    "## Diccionarios (arreglos asociativos)"
   ]
  },
  {
   "cell_type": "code",
   "execution_count": 27,
   "metadata": {},
   "outputs": [
    {
     "name": "stdout",
     "output_type": "stream",
     "text": [
      "Nombre: pedro\n"
     ]
    }
   ],
   "source": [
    "pedro = {\"nombre\": \"pedro\", \"apellido\": \"gomez\", \"edad\": 24}\n",
    "print(\"Nombre:\", pedro[\"nombre\"])"
   ]
  },
  {
   "cell_type": "code",
   "execution_count": 28,
   "metadata": {},
   "outputs": [
    {
     "name": "stdout",
     "output_type": "stream",
     "text": [
      "dict_keys(['nombre', 'apellido', 'edad'])\n"
     ]
    }
   ],
   "source": [
    "print(pedro.keys())"
   ]
  },
  {
   "cell_type": "markdown",
   "metadata": {},
   "source": [
    "## Estructuras de control: for e if"
   ]
  },
  {
   "cell_type": "code",
   "execution_count": 18,
   "metadata": {},
   "outputs": [
    {
     "name": "stdout",
     "output_type": "stream",
     "text": [
      "range(0, 10)\n"
     ]
    }
   ],
   "source": [
    "print(range(10)) # Estructura \"especial\" que opera como lista que se va autogenerando."
   ]
  },
  {
   "cell_type": "markdown",
   "metadata": {},
   "source": [
    "Ejemplo de ciclo for. Prestar especial atención a la indentación para marcar el scope.\n",
    "\n",
    "Ejemplo: sumar los números del 0 al 100 inclusive.\n",
    "$$\n",
    "\\sum_{i=0}^{1000} i\n",
    "$$"
   ]
  },
  {
   "cell_type": "code",
   "execution_count": 21,
   "metadata": {},
   "outputs": [
    {
     "name": "stdout",
     "output_type": "stream",
     "text": [
      "5050\n"
     ]
    }
   ],
   "source": [
    "accum = 0\n",
    "for i in range(101):\n",
    "    accum = accum + i\n",
    "print(accum)"
   ]
  },
  {
   "cell_type": "markdown",
   "metadata": {},
   "source": [
    "Ejemplo: sumar los números del 0 al 1000 que sean divisibles por 7.\n"
   ]
  },
  {
   "cell_type": "code",
   "execution_count": 22,
   "metadata": {},
   "outputs": [
    {
     "name": "stdout",
     "output_type": "stream",
     "text": [
      "71071\n"
     ]
    }
   ],
   "source": [
    "accum = 0\n",
    "for i in range(1001):\n",
    "    if i % 7 == 0:\n",
    "        accum = accum + i\n",
    "print(accum)\n"
   ]
  },
  {
   "cell_type": "markdown",
   "metadata": {},
   "source": [
    "Ejemplo. Parecido al de antes, pero ahora resta además los que no son divisibles por 7."
   ]
  },
  {
   "cell_type": "code",
   "execution_count": 24,
   "metadata": {},
   "outputs": [
    {
     "name": "stdout",
     "output_type": "stream",
     "text": [
      "-429286\n"
     ]
    }
   ],
   "source": [
    "accum = 0\n",
    "for i in range(1001):\n",
    "    if i % 7 == 0:\n",
    "        accum = accum + 1\n",
    "    else:\n",
    "        accum = accum -i\n",
    "print(accum)"
   ]
  },
  {
   "cell_type": "markdown",
   "metadata": {},
   "source": [
    "Ejemplo. Parecido al de antes, pero con este proceso. Si es divisible por 7, se suma. Si NO es divisible por 7\n",
    "pero lo es por 3, lo resta. En otro caso, suma el doble."
   ]
  },
  {
   "cell_type": "code",
   "execution_count": 25,
   "metadata": {},
   "outputs": [
    {
     "name": "stdout",
     "output_type": "stream",
     "text": [
      "500494\n"
     ]
    }
   ],
   "source": [
    "accum = 0\n",
    "for i in range(1001):\n",
    "    if i % 7 == 0:\n",
    "        accum = accum + i\n",
    "    elif i % 3 == 0:\n",
    "        accum = accum - i\n",
    "    else:\n",
    "        accum = accum + 2*i\n",
    "print(accum)"
   ]
  },
  {
   "cell_type": "markdown",
   "metadata": {},
   "source": [
    "### Ejercicio\n",
    "Evaluar:\n",
    "$$\n",
    "\\sum_{i=1}^{15} \\sum_{j=5}^{20} \\frac{1}{i+j+3}\n",
    "$$"
   ]
  },
  {
   "cell_type": "markdown",
   "metadata": {},
   "source": [
    "## Estructura de Control: while"
   ]
  },
  {
   "cell_type": "markdown",
   "metadata": {},
   "source": [
    "Ejemplo: queremos calcular el primer n tal que la suma desde 1 a n supera 10000"
   ]
  },
  {
   "cell_type": "code",
   "execution_count": 33,
   "metadata": {},
   "outputs": [
    {
     "name": "stdout",
     "output_type": "stream",
     "text": [
      "45\n",
      "1035\n"
     ]
    }
   ],
   "source": [
    "accum = 0\n",
    "i = 0\n",
    "while accum <= 1000:\n",
    "    i = i + 1\n",
    "    accum = accum + i    \n",
    "print(i)\n",
    "print(accum)"
   ]
  },
  {
   "cell_type": "markdown",
   "metadata": {},
   "source": [
    "Ejemplo: la ruina del jugador. Se empieza con un capital de 10$ y se apuesta a la ruleta en el color rojo (18/38 chances de ganar un peso, el resto es perderlo). ¿Cuánto tiempo me lleva fundirme?"
   ]
  },
  {
   "cell_type": "code",
   "execution_count": 36,
   "metadata": {},
   "outputs": [
    {
     "name": "stdout",
     "output_type": "stream",
     "text": [
      "282\n"
     ]
    }
   ],
   "source": [
    "import random\n",
    "capital = 10\n",
    "turno = 0\n",
    "while capital > 0:\n",
    "    turno = turno + 1\n",
    "    if random.random() < (18.0/38.0):\n",
    "        capital = capital + 1\n",
    "    else:\n",
    "        capital = capital - 1\n",
    "print(turno)"
   ]
  },
  {
   "cell_type": "markdown",
   "metadata": {},
   "source": [
    "## Funciones"
   ]
  },
  {
   "cell_type": "code",
   "execution_count": 38,
   "metadata": {},
   "outputs": [
    {
     "data": {
      "text/plain": [
       "5050"
      ]
     },
     "execution_count": 38,
     "metadata": {},
     "output_type": "execute_result"
    }
   ],
   "source": [
    "def sumar(n):\n",
    "    accum = 0\n",
    "    for i in range(n+1):\n",
    "        accum = accum + i\n",
    "    return accum\n",
    "\n",
    "sumar(100)"
   ]
  },
  {
   "cell_type": "code",
   "execution_count": 40,
   "metadata": {},
   "outputs": [
    {
     "name": "stdout",
     "output_type": "stream",
     "text": [
      "106\n",
      "5050\n"
     ]
    }
   ],
   "source": [
    "def sumar_elementos(l):\n",
    "    accum = 0\n",
    "    for e in l:\n",
    "        accum = accum + e\n",
    "    return accum\n",
    "\n",
    "print(sumar_elementos([90,14,2]))\n",
    "print(sumar_elementos(range(101)))\n"
   ]
  },
  {
   "cell_type": "code",
   "execution_count": 43,
   "metadata": {},
   "outputs": [
    {
     "name": "stdout",
     "output_type": "stream",
     "text": [
      "False\n",
      "True\n"
     ]
    },
    {
     "data": {
      "text/plain": [
       "0"
      ]
     },
     "execution_count": 43,
     "metadata": {},
     "output_type": "execute_result"
    }
   ],
   "source": [
    "def es_par(x):\n",
    "    if x % 2 == 0:\n",
    "        return True\n",
    "    else:\n",
    "        return False\n",
    "\n",
    "print(es_par(5))\n",
    "print(es_par(12))"
   ]
  },
  {
   "cell_type": "markdown",
   "metadata": {},
   "source": [
    "Ejemplo. Definir una función que dado un $n \\in \\mathbb{N}$, devuelva True si es un número primo. Es decir, si sus únicos divisores positivos son el 1 y el propio número."
   ]
  },
  {
   "cell_type": "code",
   "execution_count": 44,
   "metadata": {},
   "outputs": [
    {
     "name": "stdout",
     "output_type": "stream",
     "text": [
      "7 es primo?: True\n",
      "14 es primo?: False\n"
     ]
    }
   ],
   "source": [
    "def es_primo(n):\n",
    "    if n == 1:\n",
    "        return False\n",
    "    for d in range(2, n):\n",
    "        if n % d == 0:\n",
    "            return False\n",
    "    return True\n",
    "\n",
    "print(\"7 es primo?:\", es_primo(7))\n",
    "print(\"14 es primo?:\", es_primo(14))"
   ]
  },
  {
   "cell_type": "markdown",
   "metadata": {},
   "source": [
    "Ejemplo. Calcula el número de Fibonacci. $a_0 = 1,\\ a_1= 1$ y $a_{n+2} = a_n + a_{n+1}$."
   ]
  },
  {
   "cell_type": "code",
   "execution_count": 45,
   "metadata": {},
   "outputs": [
    {
     "data": {
      "text/plain": [
       "13"
      ]
     },
     "execution_count": 45,
     "metadata": {},
     "output_type": "execute_result"
    }
   ],
   "source": [
    "def fibonacci(n):\n",
    "    if n == 0:\n",
    "        return 1\n",
    "    if n == 1:\n",
    "        return 1\n",
    "    return fibonacci(n-1) + fibonacci(n-2)\n",
    "\n",
    "fibonacci(6)"
   ]
  },
  {
   "cell_type": "markdown",
   "metadata": {},
   "source": [
    "Si bien es elegante esta forma de expresarlo, puede resultar un tanto ineficiente. Una forma iterativa más eficiente es como sigue."
   ]
  },
  {
   "cell_type": "code",
   "execution_count": 46,
   "metadata": {},
   "outputs": [
    {
     "data": {
      "text/plain": [
       "13"
      ]
     },
     "execution_count": 46,
     "metadata": {},
     "output_type": "execute_result"
    }
   ],
   "source": [
    "def fibonacci_fast(n):\n",
    "    if n == 0:\n",
    "        return 1\n",
    "    if n == 1:\n",
    "        return 1\n",
    "    a = 1\n",
    "    b = 1\n",
    "    c = a + b\n",
    "    for i in range(2,n):\n",
    "        a = b\n",
    "        b = c \n",
    "        c = a + b\n",
    "    return c\n",
    "\n",
    "fibonacci_fast(6)\n",
    "        "
   ]
  },
  {
   "cell_type": "markdown",
   "metadata": {},
   "source": [
    "### Ejercicio.\n",
    "Defina una función $f: \\mathbb{N}\\times \\mathbb{N} \\rightarrow \\mathbb{N}$ tal que $f(n,m) = n^m$ usando solamente el producto."
   ]
  },
  {
   "cell_type": "markdown",
   "metadata": {},
   "source": [
    "### Ejercicio\n",
    "Defina una función $f:\\mathbb{N} \\rightarrow [\\mathbb{N}]$ que dado un natural devuelva la lista de primos que consisten en su factorización única. Ejemplo, f(24) = [2,2,2,3]."
   ]
  },
  {
   "cell_type": "markdown",
   "metadata": {},
   "source": [
    "## Funciones de alto orden.\n",
    "Ejemplo. Dada una lista, quiero devolver una lista que contenga los mismos elementos pero multiplicados por 2."
   ]
  },
  {
   "cell_type": "code",
   "execution_count": 47,
   "metadata": {},
   "outputs": [
    {
     "data": {
      "text/plain": [
       "[8, 12, 18]"
      ]
     },
     "execution_count": 47,
     "metadata": {},
     "output_type": "execute_result"
    }
   ],
   "source": [
    "def mult2(l):\n",
    "    new_l = []\n",
    "    for e in l:\n",
    "        new_l.append(2*e)\n",
    "    return new_l\n",
    "\n",
    "mult2([4,6,9])"
   ]
  },
  {
   "cell_type": "markdown",
   "metadata": {},
   "source": [
    "¿Y si ahora quiero que multiplique por 3? En principio debería reprogramar todo (tampoco es que fue tan difícil).\n",
    "¿Podemos hacer algo más general? Se puede..."
   ]
  },
  {
   "cell_type": "code",
   "execution_count": 48,
   "metadata": {},
   "outputs": [
    {
     "data": {
      "text/plain": [
       "[8, 12, 18]"
      ]
     },
     "execution_count": 48,
     "metadata": {},
     "output_type": "execute_result"
    }
   ],
   "source": [
    "def map(l, f):\n",
    "    new_l = []\n",
    "    for e in l:\n",
    "        new_l.append(f(e))\n",
    "    return new_l\n",
    "\n",
    "def por2(x):\n",
    "    return 2*x\n",
    "\n",
    "map([4,6,9], por2)"
   ]
  },
  {
   "cell_type": "markdown",
   "metadata": {},
   "source": [
    "Un poquitito más resumido, usando lambda functions."
   ]
  },
  {
   "cell_type": "code",
   "execution_count": 49,
   "metadata": {},
   "outputs": [
    {
     "data": {
      "text/plain": [
       "[8, 12, 18]"
      ]
     },
     "execution_count": 49,
     "metadata": {},
     "output_type": "execute_result"
    }
   ],
   "source": [
    "map([4,6,9], lambda x: 2*x)"
   ]
  },
  {
   "cell_type": "code",
   "execution_count": 50,
   "metadata": {},
   "outputs": [
    {
     "data": {
      "text/plain": [
       "[12, 18, 27]"
      ]
     },
     "execution_count": 50,
     "metadata": {},
     "output_type": "execute_result"
    }
   ],
   "source": [
    "map([4,6,9], lambda x: 3*x)"
   ]
  },
  {
   "cell_type": "markdown",
   "metadata": {},
   "source": [
    "Otra función de \"alto orden\", el filter. Dada una lista y una expresión booleana, filtra elementos que cumplan la condición."
   ]
  },
  {
   "cell_type": "code",
   "execution_count": 52,
   "metadata": {},
   "outputs": [
    {
     "data": {
      "text/plain": [
       "[5, 13]"
      ]
     },
     "execution_count": 52,
     "metadata": {},
     "output_type": "execute_result"
    }
   ],
   "source": [
    "def filter(l, f):\n",
    "    new_l = []\n",
    "    for e in l:\n",
    "        if f(e):\n",
    "            new_l.append(e)\n",
    "    return new_l\n",
    "\n",
    "filter([5,8,13,14], es_primo)"
   ]
  },
  {
   "cell_type": "code",
   "execution_count": 54,
   "metadata": {},
   "outputs": [
    {
     "data": {
      "text/plain": [
       "[0,\n",
       " 2,\n",
       " 3,\n",
       " 5,\n",
       " 7,\n",
       " 11,\n",
       " 13,\n",
       " 17,\n",
       " 19,\n",
       " 23,\n",
       " 29,\n",
       " 31,\n",
       " 37,\n",
       " 41,\n",
       " 43,\n",
       " 47,\n",
       " 53,\n",
       " 59,\n",
       " 61,\n",
       " 67,\n",
       " 71,\n",
       " 73,\n",
       " 79,\n",
       " 83,\n",
       " 89,\n",
       " 97,\n",
       " 101,\n",
       " 103,\n",
       " 107,\n",
       " 109,\n",
       " 113,\n",
       " 127,\n",
       " 131,\n",
       " 137,\n",
       " 139,\n",
       " 149,\n",
       " 151,\n",
       " 157,\n",
       " 163,\n",
       " 167,\n",
       " 173,\n",
       " 179,\n",
       " 181,\n",
       " 191,\n",
       " 193,\n",
       " 197,\n",
       " 199,\n",
       " 211,\n",
       " 223,\n",
       " 227,\n",
       " 229,\n",
       " 233,\n",
       " 239,\n",
       " 241,\n",
       " 251,\n",
       " 257,\n",
       " 263,\n",
       " 269,\n",
       " 271,\n",
       " 277,\n",
       " 281,\n",
       " 283,\n",
       " 293,\n",
       " 307,\n",
       " 311,\n",
       " 313,\n",
       " 317,\n",
       " 331,\n",
       " 337,\n",
       " 347,\n",
       " 349,\n",
       " 353,\n",
       " 359,\n",
       " 367,\n",
       " 373,\n",
       " 379,\n",
       " 383,\n",
       " 389,\n",
       " 397,\n",
       " 401,\n",
       " 409,\n",
       " 419,\n",
       " 421,\n",
       " 431,\n",
       " 433,\n",
       " 439,\n",
       " 443,\n",
       " 449,\n",
       " 457,\n",
       " 461,\n",
       " 463,\n",
       " 467,\n",
       " 479,\n",
       " 487,\n",
       " 491,\n",
       " 499,\n",
       " 503,\n",
       " 509,\n",
       " 521,\n",
       " 523,\n",
       " 541,\n",
       " 547,\n",
       " 557,\n",
       " 563,\n",
       " 569,\n",
       " 571,\n",
       " 577,\n",
       " 587,\n",
       " 593,\n",
       " 599,\n",
       " 601,\n",
       " 607,\n",
       " 613,\n",
       " 617,\n",
       " 619,\n",
       " 631,\n",
       " 641,\n",
       " 643,\n",
       " 647,\n",
       " 653,\n",
       " 659,\n",
       " 661,\n",
       " 673,\n",
       " 677,\n",
       " 683,\n",
       " 691,\n",
       " 701,\n",
       " 709,\n",
       " 719,\n",
       " 727,\n",
       " 733,\n",
       " 739,\n",
       " 743,\n",
       " 751,\n",
       " 757,\n",
       " 761,\n",
       " 769,\n",
       " 773,\n",
       " 787,\n",
       " 797,\n",
       " 809,\n",
       " 811,\n",
       " 821,\n",
       " 823,\n",
       " 827,\n",
       " 829,\n",
       " 839,\n",
       " 853,\n",
       " 857,\n",
       " 859,\n",
       " 863,\n",
       " 877,\n",
       " 881,\n",
       " 883,\n",
       " 887,\n",
       " 907,\n",
       " 911,\n",
       " 919,\n",
       " 929,\n",
       " 937,\n",
       " 941,\n",
       " 947,\n",
       " 953,\n",
       " 967,\n",
       " 971,\n",
       " 977,\n",
       " 983,\n",
       " 991,\n",
       " 997]"
      ]
     },
     "execution_count": 54,
     "metadata": {},
     "output_type": "execute_result"
    }
   ],
   "source": [
    "filter(range(1000), es_primo)"
   ]
  },
  {
   "cell_type": "markdown",
   "metadata": {},
   "source": [
    "## Simulación, parte 1: la Ruina del Jugador.\n",
    "Sea el problema que vimos antes de la ruina del jugador, sea $X$ la variable aleatoria que mide la cantidad de turnos hasta que el jugador se funde. Vamos a querer estimar $E(X)$, es decir, el valor esperado de turnos que pasarán hasta que irremediablemente se quede sin dinero.\n",
    "Lo haremos por simulación, repetiremos unas 10000 veces el experimento y tomaremos el promedio.\n",
    "Más adelante armaremos gráficas con la distribución de $X$."
   ]
  },
  {
   "cell_type": "code",
   "execution_count": 2,
   "metadata": {},
   "outputs": [
    {
     "data": {
      "text/plain": [
       "190.496"
      ]
     },
     "execution_count": 2,
     "metadata": {},
     "output_type": "execute_result"
    }
   ],
   "source": [
    "import random\n",
    "\n",
    "def ruina_one_step():\n",
    "    capital = 10\n",
    "    turno = 0\n",
    "    while capital > 0:\n",
    "        turno = turno + 1\n",
    "        if random.random() < (18.0/38.0):\n",
    "            capital = capital + 1\n",
    "        else:\n",
    "            capital = capital - 1\n",
    "    return turno\n",
    "\n",
    "def ruina(n):\n",
    "    accum = 0\n",
    "    for i in range(n):\n",
    "        accum = accum + ruina_one_step()\n",
    "    return accum / n\n",
    "\n",
    "ruina(1000)\n"
   ]
  },
  {
   "cell_type": "markdown",
   "metadata": {},
   "source": [
    "Comando sample.\n",
    "Prueba de ejecutar:"
   ]
  },
  {
   "cell_type": "code",
   "execution_count": 6,
   "metadata": {},
   "outputs": [
    {
     "name": "stdout",
     "output_type": "stream",
     "text": [
      "[0, 8, 4]\n",
      "[6, 'b']\n"
     ]
    }
   ],
   "source": [
    "print(random.sample(range(10), 3))\n",
    "print(random.sample([\"a\", \"b\", \"c\", \"d\", 4, 1, 6], 2))"
   ]
  },
  {
   "cell_type": "markdown",
   "metadata": {},
   "source": [
    "## Manipulación básica de archivos"
   ]
  },
  {
   "cell_type": "code",
   "execution_count": 12,
   "metadata": {},
   "outputs": [
    {
     "name": "stdout",
     "output_type": "stream",
     "text": [
      "[{'precio': 74686.5613572299, 'calidad': 11.3004311992867}, {'precio': 89832.3024623096, 'calidad': 12.1322665110365}, {'precio': 75209.3830518425, 'calidad': 8.55013025423744}, {'precio': 29274.8862691224, 'calidad': 4.95897397178145}, {'precio': 35600.7293984294, 'calidad': 7.5885023042731}, {'precio': 56896.0685841739, 'calidad': 7.80590536901736}, {'precio': 36282.8192301095, 'calidad': 10.1648728992009}, {'precio': 67267.9391875863, 'calidad': 10.1441002939895}, {'precio': 49911.0455624759, 'calidad': 10.1360621260508}, {'precio': 31303.8498908281, 'calidad': 6.90478958358832}, {'precio': 27692.4752444029, 'calidad': 1.94590924556243}, {'precio': 76229.912918061, 'calidad': 11.2305415476531}, {'precio': 26207.013875246, 'calidad': 3.51594059729099}, {'precio': 38791.7073816061, 'calidad': 6.73064733511303}, {'precio': 96760.0127868354, 'calidad': 10.1350519931889}, {'precio': 83608.0103926361, 'calidad': 9.10362740232398}, {'precio': 50925.3161214292, 'calidad': 7.0557523162749}, {'precio': 98101.3317964971, 'calidad': 10.4901849284659}, {'precio': 27623.1937669218, 'calidad': 3.74146205185923}, {'precio': 66552.1065331995, 'calidad': 9.94795150452882}, {'precio': 57785.1878851652, 'calidad': 6.84657554972122}, {'precio': 44187.7006925642, 'calidad': 9.16969068145705}, {'precio': 28824.1137750447, 'calidad': 7.27761050859721}, {'precio': 65740.7146319747, 'calidad': 7.34141190240429}, {'precio': 83259.3077979982, 'calidad': 8.24803825288193}, {'precio': 71060.1735301316, 'calidad': 9.90511632617056}, {'precio': 44904.5225605369, 'calidad': 6.93161399664321}, {'precio': 75417.4212366343, 'calidad': 10.3363243020862}, {'precio': 73969.2340232432, 'calidad': 9.45098280404562}, {'precio': 80656.2193855643, 'calidad': 12.5337677004694}, {'precio': 87300.4760593176, 'calidad': 10.7912653163859}, {'precio': 39236.3391816616, 'calidad': 3.19580573342383}, {'precio': 74380.8524310589, 'calidad': 11.247992770713}, {'precio': 25635.4882754385, 'calidad': 0.42469221645733}, {'precio': 71724.8702049255, 'calidad': 9.59806377988994}, {'precio': 28169.7373837233, 'calidad': 5.06501921339332}, {'precio': 96460.9507098794, 'calidad': 11.7531567277918}, {'precio': 79858.5218563676, 'calidad': 10.645955689987}, {'precio': 32018.1369967759, 'calidad': 8.53167962256327}, {'precio': 44610.0671589375, 'calidad': 5.85246797280633}, {'precio': 92634.4892755151, 'calidad': 8.43980083718689}, {'precio': 34241.8923228979, 'calidad': 8.26706419553504}, {'precio': 42092.8041636944, 'calidad': 4.90379104921224}, {'precio': 52391.1937884986, 'calidad': 3.89577755900987}, {'precio': 95715.2919098735, 'calidad': 9.82660653357791}, {'precio': 35817.6846429706, 'calidad': 7.26021346725632}, {'precio': 30633.9416652918, 'calidad': 2.72738638657931}, {'precio': 60647.5435942411, 'calidad': 10.2395536501634}, {'precio': 25769.59149912, 'calidad': 6.29530709159888}, {'precio': 66021.4414633811, 'calidad': 8.39144307400899}, {'precio': 81437.0650425553, 'calidad': 9.81634756203881}, {'precio': 44981.8812124431, 'calidad': 5.65485143276148}, {'precio': 24292.9507046938, 'calidad': 4.80193957782305}, {'precio': 71092.0893773437, 'calidad': 15.9367291057084}, {'precio': 70406.4638540149, 'calidad': 8.80069831254646}, {'precio': 85855.4317802191, 'calidad': 9.38139429730706}, {'precio': 82130.2802488208, 'calidad': 10.1627397138845}, {'precio': 64066.9399313629, 'calidad': 6.60982139081841}, {'precio': 22551.4581054449, 'calidad': 3.55814586699865}, {'precio': 40100.927259773, 'calidad': 5.33147401483485}, {'precio': 82845.777887851, 'calidad': 10.9663154776058}, {'precio': 42148.2225321233, 'calidad': 10.2365995229268}, {'precio': 27997.3490163684, 'calidad': 1.80197501886611}, {'precio': 61425.1431450248, 'calidad': 11.0154014756666}, {'precio': 37418.522965163, 'calidad': 5.21060135163721}, {'precio': 60851.3406477869, 'calidad': 6.79255800197158}, {'precio': 93986.5217171609, 'calidad': 10.5473588328328}, {'precio': 43233.9272275567, 'calidad': 5.69157977432145}, {'precio': 52573.6411102116, 'calidad': 7.19386534328401}, {'precio': 91390.4698193073, 'calidad': 9.23836289204037}, {'precio': 78383.7062865496, 'calidad': 9.53549035258053}, {'precio': 83544.9094697833, 'calidad': 9.34981327079472}, {'precio': 25788.4345762432, 'calidad': 2.02244290535146}, {'precio': 75273.5940739512, 'calidad': 8.36398504022057}, {'precio': 67672.6277172565, 'calidad': 7.96735878954777}, {'precio': 83015.8629268408, 'calidad': 11.6591214379182}, {'precio': 50037.8438085318, 'calidad': 6.73322386565636}, {'precio': 33739.4623085856, 'calidad': 6.0311232230356}, {'precio': 84394.6168757975, 'calidad': 13.0537348965583}, {'precio': 74800.7891513407, 'calidad': 12.6922850115715}, {'precio': 92844.0696932375, 'calidad': 11.1891670470007}, {'precio': 90451.6818374395, 'calidad': 14.8067463434034}, {'precio': 69906.4550362527, 'calidad': 9.33035777853419}, {'precio': 26615.7534718513, 'calidad': 5.59964158312265}, {'precio': 98367.5588294864, 'calidad': 10.4459926437314}, {'precio': 83145.5149315298, 'calidad': 11.3969768106804}, {'precio': 54208.5390351713, 'calidad': 4.44597922503927}, {'precio': 90726.1415012181, 'calidad': 16.3486025474977}, {'precio': 25513.0120925605, 'calidad': 4.6912823994192}, {'precio': 84282.0894531906, 'calidad': 7.66483914700119}, {'precio': 72350.1869104803, 'calidad': 9.9074438475909}, {'precio': 71469.8984101415, 'calidad': 8.62869625503613}, {'precio': 95340.2080200613, 'calidad': 12.5728251153755}, {'precio': 39118.1467100978, 'calidad': 6.85924172072254}, {'precio': 91839.9338982999, 'calidad': 12.7286279771338}, {'precio': 49021.9191275537, 'calidad': 8.94212405046956}, {'precio': 35340.4853120446, 'calidad': 6.85585823268949}, {'precio': 35624.7660145164, 'calidad': 4.90539210882039}, {'precio': 71272.5314497948, 'calidad': 8.1268836433296}, {'precio': 39595.5238305032, 'calidad': 4.15044803732039}]\n"
     ]
    }
   ],
   "source": [
    "f = open(\"autos.txt\")\n",
    "autos = []\n",
    "# Salteamos el header.\n",
    "header = f.readline()\n",
    "linea = f.readline().strip()\n",
    "while linea != \"\":\n",
    "    tokens = linea.split()\n",
    "    linea = f.readline().strip()\n",
    "    precio = float(tokens[0])\n",
    "    calidad = float(tokens[1])\n",
    "    autos.append({\"precio\": precio, \"calidad\": calidad})\n",
    "    \n",
    "\n",
    "print(autos)\n",
    "f.close()"
   ]
  },
  {
   "cell_type": "code",
   "execution_count": 2,
   "metadata": {},
   "outputs": [
    {
     "name": "stdout",
     "output_type": "stream",
     "text": [
      "{'precio': [74686.5613572299, 89832.3024623096, 75209.3830518425, 29274.8862691224, 35600.7293984294, 56896.0685841739, 36282.8192301095, 67267.9391875863, 49911.0455624759, 31303.8498908281, 27692.4752444029, 76229.912918061, 26207.013875246, 38791.7073816061, 96760.0127868354, 83608.0103926361, 50925.3161214292, 98101.3317964971, 27623.1937669218, 66552.1065331995, 57785.1878851652, 44187.7006925642, 28824.1137750447, 65740.7146319747, 83259.3077979982, 71060.1735301316, 44904.5225605369, 75417.4212366343, 73969.2340232432, 80656.2193855643, 87300.4760593176, 39236.3391816616, 74380.8524310589, 25635.4882754385, 71724.8702049255, 28169.7373837233, 96460.9507098794, 79858.5218563676, 32018.1369967759, 44610.0671589375, 92634.4892755151, 34241.8923228979, 42092.8041636944, 52391.1937884986, 95715.2919098735, 35817.6846429706, 30633.9416652918, 60647.5435942411, 25769.59149912, 66021.4414633811, 81437.0650425553, 44981.8812124431, 24292.9507046938, 71092.0893773437, 70406.4638540149, 85855.4317802191, 82130.2802488208, 64066.9399313629, 22551.4581054449, 40100.927259773, 82845.777887851, 42148.2225321233, 27997.3490163684, 61425.1431450248, 37418.522965163, 60851.3406477869, 93986.5217171609, 43233.9272275567, 52573.6411102116, 91390.4698193073, 78383.7062865496, 83544.9094697833, 25788.4345762432, 75273.5940739512, 67672.6277172565, 83015.8629268408, 50037.8438085318, 33739.4623085856, 84394.6168757975, 74800.7891513407, 92844.0696932375, 90451.6818374395, 69906.4550362527, 26615.7534718513, 98367.5588294864, 83145.5149315298, 54208.5390351713, 90726.1415012181, 25513.0120925605, 84282.0894531906, 72350.1869104803, 71469.8984101415, 95340.2080200613, 39118.1467100978, 91839.9338982999, 49021.9191275537, 35340.4853120446, 35624.7660145164, 71272.5314497948, 39595.5238305032], 'calidad': [11.3004311992867, 12.1322665110365, 8.55013025423744, 4.95897397178145, 7.5885023042731, 7.80590536901736, 10.1648728992009, 10.1441002939895, 10.1360621260508, 6.90478958358832, 1.94590924556243, 11.2305415476531, 3.51594059729099, 6.73064733511303, 10.1350519931889, 9.10362740232398, 7.0557523162749, 10.4901849284659, 3.74146205185923, 9.94795150452882, 6.84657554972122, 9.16969068145705, 7.27761050859721, 7.34141190240429, 8.24803825288193, 9.90511632617056, 6.93161399664321, 10.3363243020862, 9.45098280404562, 12.5337677004694, 10.7912653163859, 3.19580573342383, 11.247992770713, 0.42469221645733, 9.59806377988994, 5.06501921339332, 11.7531567277918, 10.645955689987, 8.53167962256327, 5.85246797280633, 8.43980083718689, 8.26706419553504, 4.90379104921224, 3.89577755900987, 9.82660653357791, 7.26021346725632, 2.72738638657931, 10.2395536501634, 6.29530709159888, 8.39144307400899, 9.81634756203881, 5.65485143276148, 4.80193957782305, 15.9367291057084, 8.80069831254646, 9.38139429730706, 10.1627397138845, 6.60982139081841, 3.55814586699865, 5.33147401483485, 10.9663154776058, 10.2365995229268, 1.80197501886611, 11.0154014756666, 5.21060135163721, 6.79255800197158, 10.5473588328328, 5.69157977432145, 7.19386534328401, 9.23836289204037, 9.53549035258053, 9.34981327079472, 2.02244290535146, 8.36398504022057, 7.96735878954777, 11.6591214379182, 6.73322386565636, 6.0311232230356, 13.0537348965583, 12.6922850115715, 11.1891670470007, 14.8067463434034, 9.33035777853419, 5.59964158312265, 10.4459926437314, 11.3969768106804, 4.44597922503927, 16.3486025474977, 4.6912823994192, 7.66483914700119, 9.9074438475909, 8.62869625503613, 12.5728251153755, 6.85924172072254, 12.7286279771338, 8.94212405046956, 6.85585823268949, 4.90539210882039, 8.1268836433296, 4.15044803732039]}\n"
     ]
    }
   ],
   "source": [
    "# Otra forma de apertura.\n",
    "f = open(\"autos.txt\")\n",
    "autos = {}\n",
    "cols = f.readline().strip().split()\n",
    "for col in cols:\n",
    "    autos[col] = []\n",
    "for linea in f:\n",
    "    tokens = linea.strip().split()\n",
    "    for i in range(len(cols)):\n",
    "        col = cols[i]\n",
    "        autos[col].append(float(tokens[i]))\n",
    "print(autos)\n",
    "f.close()"
   ]
  },
  {
   "cell_type": "markdown",
   "metadata": {
    "collapsed": true
   },
   "source": [
    "## Primer Set de Ejercicios.\n",
    "\n",
    "1) Calcule $\\sum_{i=1}^{15}\\sum_{j=i}^{20} \\frac{i+j}{i^2+j+1}$.\n",
    "\n",
    "2) a) Encontrar todos los números entre 1000 y 5000 que son divisibles por 7 pero no son múltiplos de 35.\n",
    "   b) Hallar la suma de esos números.\n",
    "\n",
    "3) Defina una función que permita calcular el factorial de un número.\n",
    "\n",
    "4) Defina una función que dada una cadena de caracteres con números separados por coma (ej, \"24,77,99,12,24\") devuelva la suma de todos los números. En ele ejemplo anterior, eso sería 24+77+99+12+24 = 236.\n",
    "\n",
    "5) Defina una función que dada una lista de números, devuelva la cantidad de primos que contiene.\n",
    "\n",
    "6) Defina una función que dada una lista de elementos, devuelva la mayor de ellos y su posición (las funciones de Python pueden devolver más de un parámetro, averigüe cómo!).\n",
    "\n",
    "*7) Defina una función que dada una lista de números naturales, devuelva el máximo común divisor de todos ellos.\n",
    "\n",
    "8) Una terna pitagórica es un conjunto de naturales $a$, $b$ y $c$ tales que $a^2 + b^2 = c^2$. Hallar una terna pitagórica tal que $a + b + c = 1000$.\n",
    "\n",
    "9) Implemente, a su gusto, una función que dada una lista de elementos devuelva la misma lista ordenada.\n",
    "\n",
    "10) Ídem ejercicio 8 pero con pudiendo usar una función propia de Python.\n",
    "\n",
    "11) Vamos a estimar el valor esperado (esperanza) de sobres de 5 figuritas (únicas) necesarios para completar un álbum de 500 sobres. Para eso, implementar una simulación del completado de un álbum. Sugerencia, haga uso del comando \"sample\" para simular la construcción de un sobre, y vaya \"pegando\" los sobres en una lista de 500 elementos aquellas figuritas que van saliendo.\n",
    "\n",
    "12) Idem pero ahora hay que completar k álbumes. ¿Qué pasa a medida que k crece? ¿Cuántos sobres por álbum serán necesarios?\n",
    "\n",
    "13) Abra el archivo \"autos.txt\" y obtenga el índice del rodado con la mejor relación calidad/precio.\n",
    "\n",
    "14) Abra el archivo \"autox.txt\" y ordene el dataset en función de la relación calidad/precio.\n"
   ]
  },
  {
   "cell_type": "code",
   "execution_count": null,
   "metadata": {
    "collapsed": true
   },
   "outputs": [],
   "source": []
  }
 ],
 "metadata": {
  "kernelspec": {
   "display_name": "Python 3",
   "language": "python",
   "name": "python3"
  },
  "language_info": {
   "codemirror_mode": {
    "name": "ipython",
    "version": 3
   },
   "file_extension": ".py",
   "mimetype": "text/x-python",
   "name": "python",
   "nbconvert_exporter": "python",
   "pygments_lexer": "ipython3",
   "version": "3.6.3"
  }
 },
 "nbformat": 4,
 "nbformat_minor": 2
}
